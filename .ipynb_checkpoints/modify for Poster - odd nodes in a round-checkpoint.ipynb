{
 "cells": [
  {
   "cell_type": "code",
   "execution_count": 1,
   "metadata": {},
   "outputs": [],
   "source": [
    "members = [8,5,2,7,11,10]"
   ]
  },
  {
   "cell_type": "markdown",
   "metadata": {},
   "source": [
    "![tree](6leafs.png)"
   ]
  },
  {
   "cell_type": "code",
   "execution_count": 2,
   "metadata": {},
   "outputs": [],
   "source": [
    "class Node:\n",
    "    def __init__(self, val, id, node_left, node_right):\n",
    "        self.val = val\n",
    "        self.id = id\n",
    "        self.node_left = node_left\n",
    "        self.node_right = node_right"
   ]
  },
  {
   "cell_type": "code",
   "execution_count": 3,
   "metadata": {},
   "outputs": [],
   "source": [
    "import random\n",
    "from collections import deque\n",
    "\n",
    "def buildTreeAndFindMax(leaf_nodes):\n",
    "    round = 0  \n",
    "    round_list=[]\n",
    "    #แปลงจากตัวเลขเป็น ์Node โดยใช้ map\n",
    "    round_list.append(list(\n",
    "                        map(lambda val: Node(val, random.randint(0,100), None, None), leaf_nodes)\n",
    "                        )\n",
    "                     )\n",
    "    champion = None # for keeping max value\n",
    "    \n",
    "    while(True): # use while true & breakinstead..  assume no prior knowledge how many rounds exist\n",
    "        print('round={}'.format(round))  \n",
    "        \n",
    "        round_list.append([])\n",
    "        next_round_container = round_list[round+1] # queue for next level\n",
    "        \n",
    "        current_round_container = round_list[round]\n",
    "        N = len(current_round_container)\n",
    "        trim_lenght = N if ( N % 2 == 0 ) else N-1\n",
    "        \n",
    "        i = 0\n",
    "        while(i < trim_lenght):\n",
    "            # sliding window of size 2\n",
    "            left_node = current_round_container[i]\n",
    "            right_node = current_round_container[i+1]\n",
    "            print( '\\tA match between: {}-{}'.format(left_node.val, right_node.val))\n",
    "        \n",
    "            if left_node.val >= right_node.val:\n",
    "                winner_node = Node(left_node.val, left_node.id, left_node, right_node)\n",
    "            else:\n",
    "                winner_node = Node(right_node.val, right_node.id, left_node, right_node)\n",
    "            # advance the winner to the next round    \n",
    "            next_round_container.append(winner_node)\n",
    "            i += 2\n",
    "        \n",
    "        if N % 2 == 1:\n",
    "            last_node = current_round_container[-1]\n",
    "            winner_node = Node(last_node.val, last_node.id, last_node, None)\n",
    "            next_round_container.append(winner_node)\n",
    "            \n",
    "        print('\\tList of winners: {}'.format(list(map(lambda nd: nd.val, next_round_container))))\n",
    "        \n",
    "        if len(next_round_container) == 1:\n",
    "            # champion will act as parent when finding 2nd max candidates\n",
    "            champion = next_round_container[0]\n",
    "            break\n",
    "        else:\n",
    "            round += 1\n",
    "\n",
    "    return champion"
   ]
  },
  {
   "cell_type": "code",
   "execution_count": 4,
   "metadata": {
    "scrolled": true
   },
   "outputs": [
    {
     "name": "stdout",
     "output_type": "stream",
     "text": [
      "round=0\n",
      "\tA match between: 8-5\n",
      "\tA match between: 2-7\n",
      "\tA match between: 11-10\n",
      "\tList of winners: [8, 7, 11]\n",
      "round=1\n",
      "\tA match between: 8-7\n",
      "\tList of winners: [8, 11]\n",
      "round=2\n",
      "\tA match between: 8-11\n",
      "\tList of winners: [11]\n"
     ]
    }
   ],
   "source": [
    "champion = buildTreeAndFindMax(members)"
   ]
  },
  {
   "cell_type": "markdown",
   "metadata": {},
   "source": [
    "**Answer 1.**"
   ]
  },
  {
   "cell_type": "code",
   "execution_count": 5,
   "metadata": {},
   "outputs": [
    {
     "name": "stdout",
     "output_type": "stream",
     "text": [
      "11\n"
     ]
    }
   ],
   "source": [
    "print(champion.val)"
   ]
  },
  {
   "cell_type": "markdown",
   "metadata": {},
   "source": [
    "**Trace the tree to see which nodes have been compared to champion**"
   ]
  },
  {
   "cell_type": "code",
   "execution_count": 6,
   "metadata": {
    "scrolled": true
   },
   "outputs": [],
   "source": [
    "def secondMaxCandidates(parent):\n",
    "    candidates = []\n",
    "    \n",
    "    while(parent.node_left or parent.node_right): # Go down until reaching leaf nodes because a leaf doesn't have child anymore\n",
    "        node_left = parent.node_left\n",
    "        node_right = parent.node_right\n",
    "        if parent.id == node_left.id:\n",
    "            if node_right: # It can be 'None'\n",
    "                candidates.append(node_right)\n",
    "            parent = node_left\n",
    "        elif parent.id == node_right.id:\n",
    "            if node_left: # It can be 'None' if parent got only one child\n",
    "                candidates.append(node_left)\n",
    "            parent = node_right\n",
    "            \n",
    "    \n",
    "    return parent, candidates"
   ]
  },
  {
   "cell_type": "code",
   "execution_count": 7,
   "metadata": {},
   "outputs": [],
   "source": [
    "finalParent, candidates = secondMaxCandidates(champion)"
   ]
  },
  {
   "cell_type": "markdown",
   "metadata": {},
   "source": [
    "**Answer 2.1**"
   ]
  },
  {
   "cell_type": "code",
   "execution_count": 8,
   "metadata": {},
   "outputs": [
    {
     "data": {
      "text/plain": [
       "[8, 10]"
      ]
     },
     "execution_count": 8,
     "metadata": {},
     "output_type": "execute_result"
    }
   ],
   "source": [
    "list(map(lambda nd: nd.val, candidates))"
   ]
  },
  {
   "cell_type": "markdown",
   "metadata": {},
   "source": [
    "**Answer 2.2**"
   ]
  },
  {
   "cell_type": "code",
   "execution_count": 9,
   "metadata": {},
   "outputs": [
    {
     "name": "stdout",
     "output_type": "stream",
     "text": [
      "val=11 node_left=None node_right=None\n"
     ]
    }
   ],
   "source": [
    "print('val={} node_left={} node_right={}'.format(finalParent.val, finalParent.node_left, finalParent.node_right))"
   ]
  },
  {
   "cell_type": "code",
   "execution_count": null,
   "metadata": {},
   "outputs": [],
   "source": []
  }
 ],
 "metadata": {
  "kernelspec": {
   "display_name": "Python 3",
   "language": "python",
   "name": "python3"
  },
  "language_info": {
   "codemirror_mode": {
    "name": "ipython",
    "version": 3
   },
   "file_extension": ".py",
   "mimetype": "text/x-python",
   "name": "python",
   "nbconvert_exporter": "python",
   "pygments_lexer": "ipython3",
   "version": "3.7.4"
  }
 },
 "nbformat": 4,
 "nbformat_minor": 2
}
