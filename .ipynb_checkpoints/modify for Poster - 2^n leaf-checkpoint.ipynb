{
 "cells": [
  {
   "cell_type": "code",
   "execution_count": 1,
   "metadata": {},
   "outputs": [],
   "source": [
    "input = [8,5,2,7,11,10,9,6]"
   ]
  },
  {
   "cell_type": "markdown",
   "metadata": {},
   "source": [
    "![tree](8leafs.png)"
   ]
  },
  {
   "cell_type": "code",
   "execution_count": 2,
   "metadata": {},
   "outputs": [],
   "source": [
    "class Node:\n",
    "    def __init__(self, val, id, left_node, right_node):\n",
    "        self.val = val\n",
    "        self.id = id\n",
    "        self.left_node = left_node\n",
    "        self.right_node = right_node"
   ]
  },
  {
   "cell_type": "code",
   "execution_count": 3,
   "metadata": {},
   "outputs": [],
   "source": [
    "def buildTreeAndFindMax(leaf_nodes):\n",
    "    round = 0  \n",
    "    round_list=[]\n",
    "    # Transform a list of numerical values into a list of object from class 'Node'. \n",
    "    # These newly created nodes will form leafs of our tree.\n",
    "    round_list.append(\n",
    "                        [ Node(val, id, None, None) for id,val in enumerate(leaf_nodes)]\n",
    "                     )\n",
    "    champion = None # for keeping max value\n",
    "    \n",
    "    while(True): # use while true & break instead.. \n",
    "                 # better than using for loop.. because this way we don't need to know how many rounds there are\n",
    "        print('round={}'.format(round))  \n",
    "        \n",
    "        round_list.append([])\n",
    "        next_round_list = round_list[round+1] # queue for next level\n",
    "        \n",
    "        current_round_list = round_list[round]\n",
    "        N = len(current_round_list)\n",
    "        \n",
    "        i = 0\n",
    "        while(i < N):\n",
    "            #sliding window of size 2\n",
    "            left_node = current_round_list[i]\n",
    "            right_node = current_round_list[i+1]\n",
    "            print( '\\tA match between: {}-{}'.format(left_node.val, right_node.val))\n",
    "        \n",
    "            if left_node.val >= right_node.val:\n",
    "                winner_node = Node(left_node.val, left_node.id, left_node, right_node)\n",
    "            else:\n",
    "                winner_node = Node(right_node.val, right_node.id, left_node, right_node)\n",
    "            # advance the winner to next round    \n",
    "            next_round_list.append(winner_node)\n",
    "            i += 2\n",
    "        \n",
    "        print('\\tList of winners: {}'.format(list(map(lambda nd: nd.val, next_round_list))))\n",
    "        \n",
    "        if len(next_round_list) == 1:\n",
    "            # champion will act as parent when finding 2nd max candidates\n",
    "            champion = next_round_list[0]\n",
    "            break\n",
    "        else:\n",
    "            round += 1\n",
    "\n",
    "    return champion"
   ]
  },
  {
   "cell_type": "code",
   "execution_count": 4,
   "metadata": {
    "scrolled": true
   },
   "outputs": [
    {
     "name": "stdout",
     "output_type": "stream",
     "text": [
      "round=0\n",
      "\tA match between: 8-5\n",
      "\tA match between: 2-7\n",
      "\tA match between: 11-10\n",
      "\tA match between: 9-6\n",
      "\tList of winners: [8, 7, 11, 9]\n",
      "round=1\n",
      "\tA match between: 8-7\n",
      "\tA match between: 11-9\n",
      "\tList of winners: [8, 11]\n",
      "round=2\n",
      "\tA match between: 8-11\n",
      "\tList of winners: [11]\n"
     ]
    }
   ],
   "source": [
    "champion = buildTreeAndFindMax(input)"
   ]
  },
  {
   "cell_type": "markdown",
   "metadata": {},
   "source": [
    "**Answer 1.**"
   ]
  },
  {
   "cell_type": "code",
   "execution_count": 5,
   "metadata": {},
   "outputs": [
    {
     "name": "stdout",
     "output_type": "stream",
     "text": [
      "11\n"
     ]
    }
   ],
   "source": [
    "print(champion.val)"
   ]
  },
  {
   "cell_type": "markdown",
   "metadata": {},
   "source": [
    "**Trace the tree to see which nodes have been compared to champion**"
   ]
  },
  {
   "cell_type": "code",
   "execution_count": 6,
   "metadata": {
    "scrolled": true
   },
   "outputs": [],
   "source": [
    "def secondMaxCandidates(parent):\n",
    "    candidates = []\n",
    "    \n",
    "    while(parent.left_node or parent.right_node):\n",
    "        left_node = parent.left_node\n",
    "        right_node = parent.right_node\n",
    "        if parent.id == left_node.id:\n",
    "            candidates.append(right_node)\n",
    "            parent = left_node\n",
    "        elif parent.id == right_node.id:\n",
    "            parent = right_node\n",
    "            candidates.append(left_node)\n",
    "    \n",
    "    return parent, candidates"
   ]
  },
  {
   "cell_type": "code",
   "execution_count": 7,
   "metadata": {},
   "outputs": [],
   "source": [
    "finalParent, candidates = secondMaxCandidates(champion)"
   ]
  },
  {
   "cell_type": "markdown",
   "metadata": {},
   "source": [
    "**Answer 2.1**"
   ]
  },
  {
   "cell_type": "code",
   "execution_count": 8,
   "metadata": {},
   "outputs": [
    {
     "data": {
      "text/plain": [
       "[8, 9, 10]"
      ]
     },
     "execution_count": 8,
     "metadata": {},
     "output_type": "execute_result"
    }
   ],
   "source": [
    "list(map(lambda nd: nd.val, candidates))"
   ]
  },
  {
   "cell_type": "markdown",
   "metadata": {},
   "source": [
    "**Answer 2.2**"
   ]
  },
  {
   "cell_type": "code",
   "execution_count": 9,
   "metadata": {},
   "outputs": [
    {
     "name": "stdout",
     "output_type": "stream",
     "text": [
      "val=11 left_node=None right_node=None\n"
     ]
    }
   ],
   "source": [
    "print('val={} left_node={} right_node={}'.format(finalParent.val, finalParent.left_node, finalParent.right_node))"
   ]
  },
  {
   "cell_type": "code",
   "execution_count": null,
   "metadata": {},
   "outputs": [],
   "source": []
  }
 ],
 "metadata": {
  "kernelspec": {
   "display_name": "Python 3",
   "language": "python",
   "name": "python3"
  },
  "language_info": {
   "codemirror_mode": {
    "name": "ipython",
    "version": 3
   },
   "file_extension": ".py",
   "mimetype": "text/x-python",
   "name": "python",
   "nbconvert_exporter": "python",
   "pygments_lexer": "ipython3",
   "version": "3.7.4"
  }
 },
 "nbformat": 4,
 "nbformat_minor": 2
}
