{
 "cells": [
  {
   "cell_type": "markdown",
   "metadata": {},
   "source": [
    "![smalltree](./tree_by_hand.jpg)"
   ]
  },
  {
   "cell_type": "code",
   "execution_count": null,
   "metadata": {},
   "outputs": [],
   "source": [
    "class Node:\n",
    "    def __init__(self, val, id, node_left, node_right):\n",
    "        self.val = val\n",
    "        self.id = id\n",
    "        self.node_left = node_left\n",
    "        self.node_right = node_right"
   ]
  },
  {
   "cell_type": "code",
   "execution_count": null,
   "metadata": {},
   "outputs": [],
   "source": [
    "import random\n",
    "from collections import deque\n",
    "\n",
    "members = [3,5,11,0]\n",
    "level_list=[] #ใช้ level_list[n] แทน suffix leveln\n",
    "\n",
    "#แปลงจากตัวเลขเป็น ์Node โดยใช้ map\n",
    "level_list.append(deque(\n",
    "                    map(lambda val: Node(val, random.randint(0,100), None, None), members)\n",
    "                    )\n",
    "                 )"
   ]
  },
  {
   "cell_type": "code",
   "execution_count": null,
   "metadata": {},
   "outputs": [],
   "source": [
    "while(True): #Todo: ตอนนี้ while true ยังวิ่งใน level เดียวอยู่ ไว้มา modify ให้คลุมทุกๆเลเวล\n",
    "    c = 0\n",
    "    try:\n",
    "        left_node = level_list[0].popleft()\n",
    "        print(left_node.val)\n",
    "        c += 1\n",
    "        right_node = level_list[0].popleft()\n",
    "        print(right_node.val)\n",
    "        c += 1\n",
    "        \n",
    "        if left_node.val >= right_node.val:\n",
    "            winner_node = Node(left_node.val, left_node.id, left_node, right_node)\n",
    "        else:\n",
    "            winner_node = Node(right_node.val, right_node.id, left_node, right_node)\n",
    "            # Todo: ใส่ winner เข้าปใน level ที่สูงขึ้น\n",
    "    except IndexError:\n",
    "        if c == 1: \n",
    "            # Todo: set some flag that the current node is champion\n",
    "            break\n",
    "        elif c % 2 == 0: # แสดงว่า หมดแบบ ครบคู่ จึงออกจาก loop ไปตามปกติ\n",
    "            break\n",
    "        else:\n",
    "            raise IndexError #ติดไว้ก่อน ไว้มาหาวิธี handle"
   ]
  }
 ],
 "metadata": {
  "kernelspec": {
   "display_name": "Python 3",
   "language": "python",
   "name": "python3"
  },
  "language_info": {
   "codemirror_mode": {
    "name": "ipython",
    "version": 3
   },
   "file_extension": ".py",
   "mimetype": "text/x-python",
   "name": "python",
   "nbconvert_exporter": "python",
   "pygments_lexer": "ipython3",
   "version": "3.7.4"
  }
 },
 "nbformat": 4,
 "nbformat_minor": 2
}
