{
 "cells": [
  {
   "cell_type": "markdown",
   "metadata": {},
   "source": [
    "![smalltree](./tree_by_hand.jpg)"
   ]
  },
  {
   "cell_type": "code",
   "execution_count": 1,
   "metadata": {},
   "outputs": [],
   "source": [
    "class Node:\n",
    "    def __init__(self, val, id, node_left, node_right):\n",
    "        self.val = val\n",
    "        self.id = id\n",
    "        self.node_left = node_left\n",
    "        self.node_right = node_right"
   ]
  },
  {
   "cell_type": "markdown",
   "metadata": {},
   "source": [
    "Leaf Node"
   ]
  },
  {
   "cell_type": "code",
   "execution_count": 2,
   "metadata": {},
   "outputs": [],
   "source": [
    "import random\n",
    "from collections import deque\n",
    "\n",
    "members = [3,5,11,0]\n",
    "level_list=[] #ใช้ level_list[n] แทน suffix leveln\n",
    "\n",
    "#แปลงจากตัวเลขเป็น ์Node โดยใช้ map\n",
    "level_list.append(deque(\n",
    "                    map(lambda val: Node(val, random.randint(0,100), None, None), members)\n",
    "                    )\n",
    "                 )"
   ]
  },
  {
   "cell_type": "code",
   "execution_count": 4,
   "metadata": {},
   "outputs": [
    {
     "name": "stdout",
     "output_type": "stream",
     "text": [
      "Competing pair: 3-5\n",
      "Competing pair: 11-0\n",
      "List of winner: [5, 11]\n",
      "Competing pair: 5-11\n",
      "List of winner: [11]\n"
     ]
    }
   ],
   "source": [
    "level = 0\n",
    "while(True): # use while instead.. don't assume prior knowledge how many levels exist\n",
    "    \n",
    "    while(True): # work at one level.. do not break until deque is empty\n",
    "        level_list.append(deque([]))\n",
    "        c = 0\n",
    "        try:\n",
    "            left_node = level_list[level].popleft()\n",
    "            c += 1\n",
    "\n",
    "            right_node = level_list[level].popleft()       \n",
    "            c += 1\n",
    "\n",
    "            print( 'Competing pair: {}-{}'.format(left_node.val, right_node.val))\n",
    "\n",
    "            if left_node.val >= right_node.val:\n",
    "                winner_node = Node(left_node.val, left_node.id, left_node, right_node)\n",
    "            else:\n",
    "                winner_node = Node(right_node.val, right_node.id, left_node, right_node)\n",
    "\n",
    "            #ใส่ winner เข้าไปใน deque level ที่สูงขึ้น\n",
    "            level_list[level+1].append(winner_node)\n",
    "\n",
    "        except IndexError:\n",
    "            #if c == 1: \n",
    "            #    # Todo: set some flag that the current node is champion\n",
    "            #    break\n",
    "            if c % 2 == 0: # แสดงว่า หมดแบบ ครบคู่ จึงออกจาก loop ไปตามปกติ\n",
    "                break\n",
    "            else:\n",
    "                raise IndexError #ติดไว้ก่อน ไว้มาหาวิธี handle\n",
    "\n",
    "    print('List of winner: {}'.format(list(map(lambda nd: nd.val, level_list[level+1]))))\n",
    "    if len(level_list[level+1]) == 1:\n",
    "        break\n",
    "    else:\n",
    "        level += 1"
   ]
  },
  {
   "cell_type": "code",
   "execution_count": 6,
   "metadata": {},
   "outputs": [
    {
     "data": {
      "text/plain": [
       "[0, 1, 2]"
      ]
     },
     "execution_count": 6,
     "metadata": {},
     "output_type": "execute_result"
    }
   ],
   "source": [
    "list(range())"
   ]
  },
  {
   "cell_type": "code",
   "execution_count": null,
   "metadata": {},
   "outputs": [],
   "source": []
  }
 ],
 "metadata": {
  "kernelspec": {
   "display_name": "Python 3",
   "language": "python",
   "name": "python3"
  },
  "language_info": {
   "codemirror_mode": {
    "name": "ipython",
    "version": 3
   },
   "file_extension": ".py",
   "mimetype": "text/x-python",
   "name": "python",
   "nbconvert_exporter": "python",
   "pygments_lexer": "ipython3",
   "version": "3.7.4"
  }
 },
 "nbformat": 4,
 "nbformat_minor": 2
}
