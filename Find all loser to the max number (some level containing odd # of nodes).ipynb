{
 "cells": [
  {
   "cell_type": "code",
   "execution_count": 1,
   "metadata": {},
   "outputs": [],
   "source": [
    "members = [8,5,2,7,11,10]"
   ]
  },
  {
   "cell_type": "markdown",
   "metadata": {},
   "source": [
    "![smalltree](./tree_by_hand2.jpg)"
   ]
  },
  {
   "cell_type": "code",
   "execution_count": 2,
   "metadata": {},
   "outputs": [],
   "source": [
    "class Node:\n",
    "    def __init__(self, val, id, node_left, node_right):\n",
    "        self.val = val\n",
    "        self.id = id\n",
    "        self.node_left = node_left\n",
    "        self.node_right = node_right"
   ]
  },
  {
   "cell_type": "code",
   "execution_count": 3,
   "metadata": {},
   "outputs": [],
   "source": [
    "import random\n",
    "from collections import deque\n",
    "\n",
    "def buildTreeAndFindMax(leaf_nodes):\n",
    "    level_list=[] #ใช้ level_list[n] แทน suffix leveln\n",
    "    #แปลงจากตัวเลขเป็น ์Node โดยใช้ map\n",
    "    level_list.append(deque(\n",
    "                        map(lambda val: Node(val, random.randint(0,100), None, None), leaf_nodes)\n",
    "                        )\n",
    "                     )\n",
    "    level = 0\n",
    "    champion = None # for keeping max value\n",
    "    \n",
    "    while(True): # use while instead.. don't assume prior knowledge how many levels exist\n",
    "        \n",
    "        c = 0\n",
    "        level_list.append(deque([]))\n",
    "        deque_next_level = level_list[level+1] # queue for next level\n",
    "        \n",
    "        print('level={}'.format(level))\n",
    "        while(True): # work at one level.. do not break until deque is empty\n",
    "\n",
    "            try:\n",
    "                left_node = level_list[level].popleft()\n",
    "                c += 1\n",
    "\n",
    "                right_node = level_list[level].popleft()       \n",
    "                c += 1\n",
    "\n",
    "                print( '\\tCompeting pair: {}-{}'.format(left_node.val, right_node.val))\n",
    "\n",
    "                if left_node.val >= right_node.val:\n",
    "                    winner_node = Node(left_node.val, left_node.id, left_node, right_node)\n",
    "                else:\n",
    "                    winner_node = Node(right_node.val, right_node.id, left_node, right_node)\n",
    "\n",
    "                #ใส่ winner เข้าไปใน deque level ที่สูงขึ้น\n",
    "                deque_next_level.append(winner_node)\n",
    "\n",
    "            except IndexError:\n",
    "                #############ย้ายไปดักตรง print List of winners###############\n",
    "                #if c == 1: \n",
    "                #    # Todo: set some flag that the current node is champion\n",
    "                #    break\n",
    "                if c % 2 == 0: # แสดงว่า หมดแบบ ครบคู่ จึงออกจาก loop ไปตามปกติ\n",
    "                    break\n",
    "                elif c != 1 and c % 2 == 1: \n",
    "                    #number of node is odd. No right_node for the last pair, so move left_node up one level (ชนะบาย)\n",
    "                    #None ทำให้ข้าม การเก็บ candidate จาก right_node เวลา scan ลงจาก top down ใน func'secondMaxCandidates'\n",
    "                    winner_node = Node(left_node.val, left_node.id, left_node, None)\n",
    "                    deque_next_level.append(winner_node)\n",
    "                    break\n",
    "                else:#ไม่ควรเข้ามา block นี้ เพราะเงื่อนไข มันคือ c==1 เพราะ 1)ไม่ใช่คู่ 2)ไม่ใช่คี่ที่ไม่ใช่หนึ่ง\n",
    "                    print(c)\n",
    "                    raise Exception\n",
    "\n",
    "        print('\\tList of winners: {}'.format(list(map(lambda nd: nd.val, deque_next_level))))\n",
    "        if len(deque_next_level) == 1:\n",
    "            # champion will act as parent when finding 2nd max candidates\n",
    "            champion = deque_next_level.popleft()\n",
    "            break\n",
    "        else:\n",
    "            level += 1\n",
    "\n",
    "    return champion"
   ]
  },
  {
   "cell_type": "code",
   "execution_count": 4,
   "metadata": {
    "scrolled": true
   },
   "outputs": [
    {
     "name": "stdout",
     "output_type": "stream",
     "text": [
      "level=0\n",
      "\tCompeting pair: 8-5\n",
      "\tCompeting pair: 2-7\n",
      "\tCompeting pair: 11-10\n",
      "\tList of winners: [8, 7, 11]\n",
      "level=1\n",
      "\tCompeting pair: 8-7\n",
      "\tList of winners: [8, 11]\n",
      "level=2\n",
      "\tCompeting pair: 8-11\n",
      "\tList of winners: [11]\n"
     ]
    }
   ],
   "source": [
    "champion = buildTreeAndFindMax(members)"
   ]
  },
  {
   "cell_type": "markdown",
   "metadata": {},
   "source": [
    "**Answer 1.**"
   ]
  },
  {
   "cell_type": "code",
   "execution_count": 5,
   "metadata": {},
   "outputs": [
    {
     "name": "stdout",
     "output_type": "stream",
     "text": [
      "11\n"
     ]
    }
   ],
   "source": [
    "print(champion.val)"
   ]
  },
  {
   "cell_type": "markdown",
   "metadata": {},
   "source": [
    "**Trace the tree to see which nodes have been compared to champion**"
   ]
  },
  {
   "cell_type": "code",
   "execution_count": 7,
   "metadata": {
    "scrolled": true
   },
   "outputs": [],
   "source": [
    "def secondMaxCandidates(parent):\n",
    "    candidates = []\n",
    "    \n",
    "    while(parent.node_left or parent.node_right): #อาจจะมี child เดียว\n",
    "        node_left = parent.node_left\n",
    "        node_right = parent.node_right\n",
    "        if parent.id == node_left.id:\n",
    "            if(node_right):# node_right might be 'None'\n",
    "                candidates.append(node_right)\n",
    "            parent = node_left\n",
    "        elif parent.id == node_right.id:\n",
    "            if(node_left):# node_left might be 'None'\n",
    "                candidates.append(node_left)\n",
    "            parent = node_right\n",
    "    \n",
    "    return parent, candidates"
   ]
  },
  {
   "cell_type": "code",
   "execution_count": 8,
   "metadata": {},
   "outputs": [],
   "source": [
    "finalParent, candidates = secondMaxCandidates(champion)"
   ]
  },
  {
   "cell_type": "markdown",
   "metadata": {},
   "source": [
    "**Answer 2.1**"
   ]
  },
  {
   "cell_type": "code",
   "execution_count": 9,
   "metadata": {},
   "outputs": [
    {
     "data": {
      "text/plain": [
       "[8, 10]"
      ]
     },
     "execution_count": 9,
     "metadata": {},
     "output_type": "execute_result"
    }
   ],
   "source": [
    "list(map(lambda nd: nd.val, candidates))"
   ]
  },
  {
   "cell_type": "markdown",
   "metadata": {},
   "source": [
    "**Answer 2.2**"
   ]
  },
  {
   "cell_type": "code",
   "execution_count": 10,
   "metadata": {},
   "outputs": [
    {
     "name": "stdout",
     "output_type": "stream",
     "text": [
      "val=11 node_left=None node_right=None\n"
     ]
    }
   ],
   "source": [
    "print('val={} node_left={} node_right={}'.format(finalParent.val, finalParent.node_left, finalParent.node_right))"
   ]
  },
  {
   "cell_type": "code",
   "execution_count": null,
   "metadata": {},
   "outputs": [],
   "source": []
  }
 ],
 "metadata": {
  "kernelspec": {
   "display_name": "Python 3",
   "language": "python",
   "name": "python3"
  },
  "language_info": {
   "codemirror_mode": {
    "name": "ipython",
    "version": 3
   },
   "file_extension": ".py",
   "mimetype": "text/x-python",
   "name": "python",
   "nbconvert_exporter": "python",
   "pygments_lexer": "ipython3",
   "version": "3.7.4"
  }
 },
 "nbformat": 4,
 "nbformat_minor": 2
}
