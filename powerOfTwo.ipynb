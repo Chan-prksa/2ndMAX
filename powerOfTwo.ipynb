{
 "cells": [
  {
   "cell_type": "code",
   "execution_count": 1,
   "metadata": {},
   "outputs": [],
   "source": [
    "input = [8,5,2,7,11,10,9,6]"
   ]
  },
  {
   "cell_type": "markdown",
   "metadata": {},
   "source": [
    "![tree](8leafs.png)"
   ]
  },
  {
   "cell_type": "code",
   "execution_count": 2,
   "metadata": {},
   "outputs": [],
   "source": [
    "class Node:\n",
    "    def __init__(self, val, id, left_child, right_child):\n",
    "        self.val = val\n",
    "        self.id = id\n",
    "        self.left_child = left_child\n",
    "        self.right_child = right_child"
   ]
  },
  {
   "cell_type": "code",
   "execution_count": 3,
   "metadata": {},
   "outputs": [],
   "source": [
    "def buildTreeAndFindMax(leaf_nodes):\n",
    "    round = 0  \n",
    "    round_list=[]\n",
    "    # Transform a list of numerical values into a list of object from class 'Node'. \n",
    "    # These newly created nodes will form leafs of our tree.\n",
    "    round_list.append(\n",
    "                        [ Node(val, id, None, None) for id,val in enumerate(leaf_nodes)]\n",
    "                     )\n",
    "    champion = None # for keeping the node which has maximum value\n",
    "    \n",
    "    while(True):\n",
    "        print('round={} BUILD round={}'.format(round, round + 1))  \n",
    "        \n",
    "        current_round_list = round_list[round]\n",
    "        round_list.append([])\n",
    "        next_round_list = round_list[round+1] # queue for next level\n",
    "        \n",
    "        N = len(current_round_list)\n",
    "        i = 0\n",
    "        while(i < N):\n",
    "            #sliding window of length 2\n",
    "            first_node = current_round_list[i]\n",
    "            second_node = current_round_list[i+1]\n",
    "            print( '\\tA match between: {}-{}'.format(first_node.val, second_node.val))\n",
    "        \n",
    "            if first_node.val >= second_node.val:\n",
    "                winner_node = Node(first_node.val, first_node.id, first_node, second_node)\n",
    "            else:\n",
    "                winner_node = Node(second_node.val, second_node.id, first_node, second_node)\n",
    "            # advance the winner to next round    \n",
    "            next_round_list.append(winner_node)\n",
    "            i += 2 #stride equals to two\n",
    "        \n",
    "        print('\\tList of winners: {}'.format(list(map(lambda nd: nd.val, next_round_list))))\n",
    "        \n",
    "        if len(next_round_list) == 1:\n",
    "            # champion will act as parent when finding 2nd max candidates\n",
    "            champion = next_round_list[0]\n",
    "            break\n",
    "        else:\n",
    "            round += 1\n",
    "\n",
    "    return champion"
   ]
  },
  {
   "cell_type": "code",
   "execution_count": 4,
   "metadata": {
    "scrolled": true
   },
   "outputs": [
    {
     "name": "stdout",
     "output_type": "stream",
     "text": [
      "round=0 BUILD round=1\n",
      "\tA match between: 8-5\n",
      "\tA match between: 2-7\n",
      "\tA match between: 11-10\n",
      "\tA match between: 9-6\n",
      "\tList of winners: [8, 7, 11, 9]\n",
      "round=1 BUILD round=2\n",
      "\tA match between: 8-7\n",
      "\tA match between: 11-9\n",
      "\tList of winners: [8, 11]\n",
      "round=2 BUILD round=3\n",
      "\tA match between: 8-11\n",
      "\tList of winners: [11]\n"
     ]
    }
   ],
   "source": [
    "champion = buildTreeAndFindMax(input)"
   ]
  },
  {
   "cell_type": "markdown",
   "metadata": {},
   "source": [
    "**Answer 1.**"
   ]
  },
  {
   "cell_type": "code",
   "execution_count": 5,
   "metadata": {},
   "outputs": [
    {
     "name": "stdout",
     "output_type": "stream",
     "text": [
      "11\n"
     ]
    }
   ],
   "source": [
    "print(champion.val)"
   ]
  },
  {
   "cell_type": "markdown",
   "metadata": {},
   "source": [
    "**Trace the tree to see which nodes have been compared to champion**"
   ]
  },
  {
   "cell_type": "code",
   "execution_count": 6,
   "metadata": {
    "scrolled": true
   },
   "outputs": [],
   "source": [
    "def secondMaxCandidates(parent):\n",
    "    candidates = []\n",
    "    \n",
    "    while(parent.left_child or parent.right_child):\n",
    "        left_child = parent.left_child\n",
    "        right_child = parent.right_child\n",
    "        print('''parent.val={} parent.id={}\n",
    "                 left_child.val={} left_child.id={}\n",
    "                 right_child.val={} right_child.id={}'''\n",
    "              .format(parent.val,parent.id,\n",
    "                      left_child.val, left_child.id,\n",
    "                      right_child.val, right_child.id\n",
    "                     )\n",
    "             )\n",
    "        \n",
    "        if parent.id == left_child.id:\n",
    "            candidates.append(right_child)\n",
    "            parent = left_child\n",
    "        elif parent.id == right_child.id:\n",
    "            candidates.append(left_child)\n",
    "            parent = right_child\n",
    "    \n",
    "    return parent, candidates"
   ]
  },
  {
   "cell_type": "code",
   "execution_count": 7,
   "metadata": {},
   "outputs": [
    {
     "name": "stdout",
     "output_type": "stream",
     "text": [
      "parent.val=11 parent.id=4\n",
      "                 left_child.val=8 left_child.id=0\n",
      "                 right_child.val=11 right_child.id=4\n",
      "parent.val=11 parent.id=4\n",
      "                 left_child.val=11 left_child.id=4\n",
      "                 right_child.val=9 right_child.id=6\n",
      "parent.val=11 parent.id=4\n",
      "                 left_child.val=11 left_child.id=4\n",
      "                 right_child.val=10 right_child.id=5\n"
     ]
    }
   ],
   "source": [
    "leaf, candidates = secondMaxCandidates(champion)"
   ]
  },
  {
   "cell_type": "markdown",
   "metadata": {},
   "source": [
    "**Answer 2.1**"
   ]
  },
  {
   "cell_type": "code",
   "execution_count": 8,
   "metadata": {
    "scrolled": true
   },
   "outputs": [
    {
     "name": "stdout",
     "output_type": "stream",
     "text": [
      "[8, 9, 10]\n"
     ]
    }
   ],
   "source": [
    "candidates_val = list(map(lambda nd: nd.val, candidates))\n",
    "print(candidates_val)"
   ]
  },
  {
   "cell_type": "markdown",
   "metadata": {},
   "source": [
    "**Debug**"
   ]
  },
  {
   "cell_type": "code",
   "execution_count": 9,
   "metadata": {},
   "outputs": [
    {
     "name": "stdout",
     "output_type": "stream",
     "text": [
      "val=11 left_node=None right_node=None\n"
     ]
    }
   ],
   "source": [
    "print('val={} left_node={} right_node={}'.format(leaf.val, leaf.left_child, leaf.right_child))"
   ]
  },
  {
   "cell_type": "markdown",
   "metadata": {},
   "source": [
    "**Answer 2.2**"
   ]
  },
  {
   "cell_type": "code",
   "execution_count": 10,
   "metadata": {},
   "outputs": [
    {
     "data": {
      "text/plain": [
       "10"
      ]
     },
     "execution_count": 10,
     "metadata": {},
     "output_type": "execute_result"
    }
   ],
   "source": [
    "max(candidates_val)"
   ]
  }
 ],
 "metadata": {
  "kernelspec": {
   "display_name": "Python 3",
   "language": "python",
   "name": "python3"
  },
  "language_info": {
   "codemirror_mode": {
    "name": "ipython",
    "version": 3
   },
   "file_extension": ".py",
   "mimetype": "text/x-python",
   "name": "python",
   "nbconvert_exporter": "python",
   "pygments_lexer": "ipython3",
   "version": "3.7.4"
  }
 },
 "nbformat": 4,
 "nbformat_minor": 2
}
