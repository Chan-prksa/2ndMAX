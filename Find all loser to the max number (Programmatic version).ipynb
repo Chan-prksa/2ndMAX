{
 "cells": [
  {
   "cell_type": "markdown",
   "metadata": {},
   "source": [
    "![smalltree](./tree_by_hand.jpg)"
   ]
  },
  {
   "cell_type": "code",
   "execution_count": 23,
   "metadata": {},
   "outputs": [],
   "source": [
    "class Node:\n",
    "    def __init__(self, val, id, node_left, node_right):\n",
    "        self.val = val\n",
    "        self.id = id\n",
    "        self.node_left = node_left\n",
    "        self.node_right = node_right"
   ]
  },
  {
   "cell_type": "markdown",
   "metadata": {},
   "source": [
    "Leaf Node"
   ]
  },
  {
   "cell_type": "code",
   "execution_count": 27,
   "metadata": {},
   "outputs": [],
   "source": [
    "import random\n",
    "from collections import deque\n",
    "\n",
    "members = [3,5,11,0]\n",
    "level_list=[] #ใช้ level_list[n] แทน suffix leveln\n",
    "\n",
    "#แปลงจากตัวเลขเป็น ์Node โดยใช้ map\n",
    "level_list.append(deque(\n",
    "                    map(lambda val: Node(val, random.randint(0,100), None, None), members)\n",
    "                    )\n",
    "                 )"
   ]
  },
  {
   "cell_type": "code",
   "execution_count": 28,
   "metadata": {},
   "outputs": [
    {
     "name": "stdout",
     "output_type": "stream",
     "text": [
      "Competing pair: 3-5\n",
      "Competing pair: 11-0\n",
      "List of winner: [5, 11]\n"
     ]
    }
   ],
   "source": [
    "while(True): #Todo: ตอนนี้ while true ยังวิ่งใน level เดียวอยู่ ไว้มา modify ให้คลุมทุกๆเลเวล\n",
    "    level_list.append(deque([]))\n",
    "    c = 0\n",
    "    try:\n",
    "        left_node = level_list[0].popleft()\n",
    "        c += 1\n",
    "        \n",
    "        right_node = level_list[0].popleft()       \n",
    "        c += 1\n",
    "        \n",
    "        print( 'Competing pair: {}-{}'.format(left_node.val, right_node.val))\n",
    "        \n",
    "        if left_node.val >= right_node.val:\n",
    "            winner_node = Node(left_node.val, left_node.id, left_node, right_node)\n",
    "        else:\n",
    "            winner_node = Node(right_node.val, right_node.id, left_node, right_node)\n",
    "            \n",
    "        #ใส่ winner เข้าไปใน deque level ที่สูงขึ้น\n",
    "        level_list[1].append(winner_node)\n",
    "        \n",
    "    except IndexError:\n",
    "        if c == 1: \n",
    "            # Todo: set some flag that the current node is champion\n",
    "            break\n",
    "        elif c % 2 == 0: # แสดงว่า หมดแบบ ครบคู่ จึงออกจาก loop ไปตามปกติ\n",
    "            break\n",
    "        else:\n",
    "            raise IndexError #ติดไว้ก่อน ไว้มาหาวิธี handle\n",
    "            \n",
    "print('List of winner: {}'.format(list(map(lambda nd: nd.val, level_list[1]))))"
   ]
  },
  {
   "cell_type": "code",
   "execution_count": 16,
   "metadata": {},
   "outputs": [
    {
     "data": {
      "text/plain": [
       "'! [5, 11]'"
      ]
     },
     "execution_count": 16,
     "metadata": {},
     "output_type": "execute_result"
    }
   ],
   "source": []
  },
  {
   "cell_type": "code",
   "execution_count": null,
   "metadata": {},
   "outputs": [],
   "source": []
  }
 ],
 "metadata": {
  "kernelspec": {
   "display_name": "Python 3",
   "language": "python",
   "name": "python3"
  },
  "language_info": {
   "codemirror_mode": {
    "name": "ipython",
    "version": 3
   },
   "file_extension": ".py",
   "mimetype": "text/x-python",
   "name": "python",
   "nbconvert_exporter": "python",
   "pygments_lexer": "ipython3",
   "version": "3.7.4"
  }
 },
 "nbformat": 4,
 "nbformat_minor": 2
}
