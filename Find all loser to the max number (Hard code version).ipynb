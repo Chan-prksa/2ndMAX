{
 "cells": [
  {
   "cell_type": "code",
   "execution_count": 1,
   "metadata": {},
   "outputs": [],
   "source": [
    "class Node:\n",
    "    def __init__(self, val, id, node_left, node_right):\n",
    "        self.val = val\n",
    "        self.id = id\n",
    "        self.node_left = node_left\n",
    "        self.node_right = node_right"
   ]
  },
  {
   "cell_type": "markdown",
   "metadata": {},
   "source": [
    "Leaf Node"
   ]
  },
  {
   "cell_type": "code",
   "execution_count": 2,
   "metadata": {},
   "outputs": [],
   "source": [
    "import random\n",
    "\n",
    "node3_level0 = Node(3, random.randint(0,100), None, None)\n",
    "node5_level0 = Node(5, random.randint(0,100), None, None)\n",
    "node11_level0 = Node(11, random.randint(0,100), None, None)\n",
    "node0_level0 = Node(0, random.randint(0,100), None, None)"
   ]
  },
  {
   "cell_type": "code",
   "execution_count": 3,
   "metadata": {},
   "outputs": [],
   "source": [
    "node5_level1 = Node(5, node5_level0.id, node3_level0, node5_level0)\n",
    "node11_level1 = Node(11, node11_level0.id, node11_level0, node0_level0)"
   ]
  },
  {
   "cell_type": "code",
   "execution_count": 4,
   "metadata": {},
   "outputs": [],
   "source": [
    "node11_level2 = Node(11,node11_level1.id, node5_level1, node11_level1)"
   ]
  },
  {
   "cell_type": "code",
   "execution_count": 5,
   "metadata": {},
   "outputs": [],
   "source": [
    "candidates = []\n",
    "parent = node11_level2\n",
    "\n",
    "node_left = parent.node_left\n",
    "node_right = parent.node_right\n",
    "if parent.id == node_left.id:\n",
    "    candidates.append(node_right)\n",
    "    parent = node_left\n",
    "elif parent.id == node_right.id:\n",
    "    parent = node_right\n",
    "    candidates.append(node_left)"
   ]
  },
  {
   "cell_type": "code",
   "execution_count": 6,
   "metadata": {},
   "outputs": [
    {
     "data": {
      "text/plain": [
       "[5]"
      ]
     },
     "execution_count": 6,
     "metadata": {},
     "output_type": "execute_result"
    }
   ],
   "source": [
    "list(map( lambda nd: nd.val, candidates))"
   ]
  },
  {
   "cell_type": "code",
   "execution_count": 7,
   "metadata": {},
   "outputs": [],
   "source": [
    "node_left = parent.node_left\n",
    "node_right = parent.node_right\n",
    "if parent.id == node_left.id:\n",
    "    candidates.append(node_right)\n",
    "    parent = node_left\n",
    "elif parent.id == node_right.id:\n",
    "    parent = node_right\n",
    "    candidates.append(node_left)"
   ]
  },
  {
   "cell_type": "code",
   "execution_count": 8,
   "metadata": {},
   "outputs": [
    {
     "data": {
      "text/plain": [
       "[5, 0]"
      ]
     },
     "execution_count": 8,
     "metadata": {},
     "output_type": "execute_result"
    }
   ],
   "source": [
    "list(map( lambda nd: nd.val, candidates))"
   ]
  },
  {
   "cell_type": "code",
   "execution_count": 91,
   "metadata": {},
   "outputs": [],
   "source": [
    "import random\n",
    "from collections import deque\n",
    "\n",
    "members = [3,5,11,0]\n",
    "level_list=[] #ใช้ level_list[n] แทน suffix leveln\n",
    "\n",
    "#แปลงจากตัวเลขเป็น ์Node โดยใช้ map\n",
    "level_list.append(deque(\n",
    "                    map(lambda val: Node(val, random.randint(0,100), None, None), members)\n",
    "                    )\n",
    "                 )"
   ]
  },
  {
   "cell_type": "markdown",
   "metadata": {},
   "source": [
    "![smalltree](./tree_by_hand.jpg)"
   ]
  },
  {
   "cell_type": "code",
   "execution_count": 3,
   "metadata": {},
   "outputs": [],
   "source": []
  },
  {
   "cell_type": "code",
   "execution_count": 92,
   "metadata": {},
   "outputs": [],
   "source": [
    "while(True): #Todo: ตอนนี้ while true ยังวิ่งใน level เดียวอยู่ ไว้มา modify ให้คลุมทุกๆเลเวล\n",
    "    c = 0\n",
    "    try:\n",
    "        left_node = level_list[0].popleft()\n",
    "        print(left_node.val)\n",
    "        c += 1\n",
    "        right_node = level_list[0].popleft()\n",
    "        print(right_node.val)\n",
    "        c += 1\n",
    "        \n",
    "        if left_node.val >= right_node.val:\n",
    "            winner_node = Node(left_node.val, left_node.id, left_node, right_node)\n",
    "        else:\n",
    "            winner_node = Node(right_node.val, right_node.id, left_node, right_node)\n",
    "            # Todo: ใส่ winner เข้าปใน level ที่สูงขึ้น\n",
    "    except IndexError:\n",
    "        if c == 1: \n",
    "            # Todo: set some flag that the current node is champion\n",
    "            break\n",
    "        elif c % 2 == 0: # แสดงว่า หมดแบบ ครบคู่ จึงออกจาก loop ไปตามปกติ\n",
    "            break\n",
    "        else:\n",
    "            raise IndexError #ติดไว้ก่อน ไว้มาหาวิธี handle"
   ]
  },
  {
   "cell_type": "code",
   "execution_count": 4,
   "metadata": {},
   "outputs": [],
   "source": []
  },
  {
   "cell_type": "code",
   "execution_count": null,
   "metadata": {},
   "outputs": [],
   "source": []
  }
 ],
 "metadata": {
  "kernelspec": {
   "display_name": "Python 3",
   "language": "python",
   "name": "python3"
  },
  "language_info": {
   "codemirror_mode": {
    "name": "ipython",
    "version": 3
   },
   "file_extension": ".py",
   "mimetype": "text/x-python",
   "name": "python",
   "nbconvert_exporter": "python",
   "pygments_lexer": "ipython3",
   "version": "3.7.4"
  }
 },
 "nbformat": 4,
 "nbformat_minor": 2
}
